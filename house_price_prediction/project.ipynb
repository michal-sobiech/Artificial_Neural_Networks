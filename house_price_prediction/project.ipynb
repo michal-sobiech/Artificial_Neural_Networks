{
  "nbformat": 4,
  "nbformat_minor": 0,
  "metadata": {
    "colab": {
      "provenance": [],
      "gpuType": "T4"
    },
    "kernelspec": {
      "name": "python3",
      "display_name": "Python 3"
    },
    "language_info": {
      "name": "python"
    },
    "accelerator": "GPU"
  },
  "cells": [
    {
      "cell_type": "code",
      "execution_count": 194,
      "metadata": {
        "id": "8iCSZMbn7npT"
      },
      "outputs": [],
      "source": [
        "import pandas as pd\n",
        "import torch\n",
        "import torch.nn as nn\n",
        "import torch.optim as optim\n",
        "import torch.utils.data as data\n",
        "import numpy as np"
      ]
    },
    {
      "cell_type": "code",
      "source": [
        "def dframe_to_dloader(dframe: pd.DataFrame, batch_size: int, label_col: str = None) -> data.DataLoader:\n",
        "    labels_dframe= None\n",
        "    features_dframe = None\n",
        "    if label_col:\n",
        "        labels_dframe = dframe[label_col].values\n",
        "        features_dframe = dframe.drop(label_col, axis=1).values\n",
        "    else:\n",
        "        labels_dframe = pd.DataFrame(np.zeros(dframe.shape[0])).values\n",
        "        features_dframe = dframe.values\n",
        "\n",
        "    tensor_dataset = data.TensorDataset(\n",
        "        torch.tensor(features_dframe, dtype=torch.float),\n",
        "        torch.tensor(labels_dframe, dtype=torch.float)\n",
        "    )\n",
        "\n",
        "    return data.DataLoader(\n",
        "        tensor_dataset,\n",
        "        batch_size=batch_size,\n",
        "        shuffle=True,\n",
        "        drop_last=False\n",
        "    )"
      ],
      "metadata": {
        "id": "rGjGbi1_Ewyj"
      },
      "execution_count": 195,
      "outputs": []
    },
    {
      "cell_type": "code",
      "source": [
        "def mae(y_true,y_pred):\n",
        "    return np.absolute(np.subtract(y_true, y_pred)).mean()"
      ],
      "metadata": {
        "id": "XamZwUSM-CYa"
      },
      "execution_count": 196,
      "outputs": []
    },
    {
      "cell_type": "code",
      "source": [
        "print(torch.cuda.is_available())\n",
        "device = torch.device(\"cuda\")"
      ],
      "metadata": {
        "colab": {
          "base_uri": "https://localhost:8080/"
        },
        "id": "ItjSPk-m9szf",
        "outputId": "fa78ac75-42f5-4e4a-d27e-1aba36664ad3"
      },
      "execution_count": 197,
      "outputs": [
        {
          "output_type": "stream",
          "name": "stdout",
          "text": [
            "True\n"
          ]
        }
      ]
    },
    {
      "cell_type": "code",
      "source": [
        "training_data_file_path = 'df_train.csv'\n",
        "\n",
        "feature_cols = [\n",
        "    'MedInc',\n",
        "    'HouseAge',\n",
        "    'AveRooms',\n",
        "    'AveBedrms',\n",
        "    'Population',\n",
        "    'AveOccup',\n",
        "    'Latitude',\n",
        "    'Longitude'\n",
        "]\n",
        "label_col = 'MedHouseVal'\n",
        "\n",
        "file_dframe = pd.read_csv(\n",
        "    training_data_file_path,\n",
        "    delimiter=',',\n",
        "    usecols=feature_cols + [label_col]\n",
        ")\n",
        "\n",
        "split = 0.8\n",
        "train_dframe = file_dframe.sample(frac=split, random_state=200)\n",
        "test_dframe = file_dframe.drop(train_dframe.index)"
      ],
      "metadata": {
        "id": "GkUZTVMb9pO3"
      },
      "execution_count": 198,
      "outputs": []
    },
    {
      "cell_type": "code",
      "source": [
        "params = torch.rand(len(feature_cols), requires_grad=True)\n",
        "train_loss_func = nn.MSELoss()\n",
        "test_loss_func = mae\n",
        "lr = 1e-4\n",
        "epoch_count = 1000\n",
        "batch_size = 256\n",
        "\n",
        "class LinearRegression(nn.Module):\n",
        "    def __init__(self, input_size):\n",
        "        super().__init__()\n",
        "        self.linear1 = nn.Linear(input_size, 1)\n",
        "\n",
        "    def forward(self, x):\n",
        "        return self.linear1(x).squeeze(dim=1)\n",
        "\n",
        "model = LinearRegression(len(feature_cols))\n",
        "model = model.to(device)\n",
        "optimizer = optim.Adam(model.parameters(), lr=lr)\n",
        "\n",
        "# Train\n",
        "for _ in range(epoch_count):\n",
        "    train_dloader = dframe_to_dloader(train_dframe, batch_size, label_col)\n",
        "    for features, labels in train_dloader:\n",
        "        features, labels = features.to(device), labels.to(device)\n",
        "        preds = model.forward(features)\n",
        "\n",
        "        loss = train_loss_func(labels, preds)\n",
        "\n",
        "        optimizer.zero_grad()\n",
        "\n",
        "        loss.backward()\n",
        "\n",
        "        optimizer.step()\n",
        "\n",
        "# Test\n",
        "test_dloader = dframe_to_dloader(test_dframe, batch_size, label_col)\n",
        "for features, labels in train_dloader:\n",
        "    features, labels = features.to(device), labels.to(device)\n",
        "    preds = model.forward(features)\n",
        "    loss = test_loss_func(labels.detach().cpu().numpy(), preds.detach().cpu().numpy())\n",
        "    print(f'MAE: {loss}')"
      ],
      "metadata": {
        "colab": {
          "base_uri": "https://localhost:8080/"
        },
        "id": "HHsscNp9-MdF",
        "outputId": "c66e45a5-7962-43c9-bfc6-a4079a310644"
      },
      "execution_count": 199,
      "outputs": [
        {
          "output_type": "stream",
          "name": "stdout",
          "text": [
            "MAE: 0.5799770951271057\n",
            "MAE: 0.601913571357727\n",
            "MAE: 0.5702310800552368\n",
            "MAE: 0.5565762519836426\n",
            "MAE: 0.5107356905937195\n",
            "MAE: 0.5646263957023621\n",
            "MAE: 0.5178350806236267\n",
            "MAE: 0.6214296817779541\n",
            "MAE: 0.5978156924247742\n",
            "MAE: 0.5863064527511597\n",
            "MAE: 0.6030198335647583\n",
            "MAE: 0.5345337390899658\n",
            "MAE: 0.5726086497306824\n",
            "MAE: 0.5992660522460938\n",
            "MAE: 0.5841449499130249\n",
            "MAE: 0.611670732498169\n",
            "MAE: 0.5821232795715332\n",
            "MAE: 0.5632288455963135\n",
            "MAE: 0.6086298227310181\n",
            "MAE: 0.586023211479187\n",
            "MAE: 0.5537835359573364\n",
            "MAE: 0.5743560791015625\n",
            "MAE: 0.5817962884902954\n",
            "MAE: 0.6046843528747559\n",
            "MAE: 0.663558304309845\n",
            "MAE: 0.5642755627632141\n",
            "MAE: 0.5667545795440674\n",
            "MAE: 0.5749059915542603\n",
            "MAE: 0.5625280141830444\n",
            "MAE: 0.6137263774871826\n",
            "MAE: 0.6102809906005859\n",
            "MAE: 0.5796045660972595\n",
            "MAE: 0.5303040742874146\n",
            "MAE: 0.6153019070625305\n",
            "MAE: 0.5386835336685181\n",
            "MAE: 0.5845038890838623\n",
            "MAE: 0.5694732666015625\n",
            "MAE: 0.5749933123588562\n",
            "MAE: 0.5547628402709961\n",
            "MAE: 0.5492566823959351\n",
            "MAE: 0.5899598598480225\n",
            "MAE: 0.5784472227096558\n",
            "MAE: 0.5784015655517578\n",
            "MAE: 0.6111609935760498\n",
            "MAE: 0.5356352925300598\n",
            "MAE: 0.5585891008377075\n"
          ]
        }
      ]
    },
    {
      "cell_type": "code",
      "source": [
        "test_data_file_path = 'X_test.csv'\n",
        "\n",
        "feature_cols = [\n",
        "    'MedInc',\n",
        "    'HouseAge',\n",
        "    'AveRooms',\n",
        "    'AveBedrms',\n",
        "    'Population',\n",
        "    'AveOccup',\n",
        "    'Latitude',\n",
        "    'Longitude'\n",
        "]\n",
        "\n",
        "file_dframe = pd.read_csv(\n",
        "    test_data_file_path,\n",
        "    delimiter=',',\n",
        "    usecols=feature_cols\n",
        ")"
      ],
      "metadata": {
        "id": "vwYDv1zpCMK4"
      },
      "execution_count": 200,
      "outputs": []
    },
    {
      "cell_type": "code",
      "source": [
        "test_dloader = dframe_to_dloader(file_dframe, batch_size)\n",
        "combined_preds = np.empty((0,))\n",
        "for features, _ in test_dloader:\n",
        "    features = features.to(device)\n",
        "    preds = model.forward(features)\n",
        "    preds_np = preds.detach().cpu().numpy()\n",
        "    combined_preds = np.concatenate((combined_preds, preds_np))\n",
        "np.savetxt('piatek_Kubiszyn_Sobiech.csv', combined_preds, delimiter=',', fmt='%.10f')"
      ],
      "metadata": {
        "id": "Vp66xOTPFGLK"
      },
      "execution_count": 202,
      "outputs": []
    }
  ]
}